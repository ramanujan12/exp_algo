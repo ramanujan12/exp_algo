{
 "cells": [
  {
   "cell_type": "code",
   "execution_count": 11,
   "metadata": {},
   "outputs": [
    {
     "name": "stdout",
     "output_type": "stream",
     "text": [
      "bf_cpu algo, cit-patent.edges instance for 1024 batchsize takes: 51332 ms\n",
      "bf_cpu algo, cit-patent.edges instance for 1024 batchsize takes: 31216 ms\n",
      "bf_cpu algo, cit-patent.edges instance for 1024 batchsize takes: 20525 ms\n",
      "bf_cpu algo, cit-patent.edges instance for 1024 batchsize takes: 15490 ms\n",
      "bf_cpu algo, cit-patent.edges instance for 1024 batchsize takes: 12686 ms\n",
      "bf_cpu algo, cit-patent.edges instance for 1024 batchsize takes: 12392 ms\n",
      "bf_cpu algo, cit-patent.edges instance for 1024 batchsize takes: 12184 ms\n",
      "bf_cpu algo, cit-patent.edges instance for 128 batchsize takes: 6406 ms\n",
      "bf_cpu algo, cit-patent.edges instance for 16384 batchsize takes: 934289 ms\n",
      "bf_cpu algo, cit-patent.edges instance for 2048 batchsize takes: 102453 ms\n",
      "bf_cpu algo, cit-patent.edges instance for 256 batchsize takes: 12841 ms\n",
      "bf_cpu algo, cit-patent.edges instance for 32 batchsize takes: 1606 ms\n",
      "bf_cpu algo, cit-patent.edges instance for 4096 batchsize takes: 205100 ms\n",
      "bf_cpu algo, cit-patent.edges instance for 512 batchsize takes: 25669 ms\n",
      "bf_cpu algo, cit-patent.edges instance for 64 batchsize takes: 3210 ms\n",
      "bf_cpu algo, cit-patent.edges instance for 8192 batchsize takes: 429232 ms\n",
      "bf_cpu algo, cit-patent.edges instance for 1024 batchsize takes: 12266 ms\n",
      "bf_cpu algo, roadNet-TX.mtx instance for 1024 batchsize takes: 13729 ms\n",
      "bf_cpu algo, roadNet-TX.mtx instance for 1024 batchsize takes: 8770 ms\n",
      "bf_cpu algo, roadNet-TX.mtx instance for 1024 batchsize takes: 6319 ms\n",
      "bf_cpu algo, roadNet-TX.mtx instance for 1024 batchsize takes: 5353 ms\n",
      "bf_cpu algo, roadNet-TX.mtx instance for 1024 batchsize takes: 4440 ms\n",
      "bf_cpu algo, roadNet-TX.mtx instance for 1024 batchsize takes: 4948 ms\n",
      "bf_cpu algo, roadNet-TX.mtx instance for 1024 batchsize takes: 4271 ms\n",
      "bf_cpu algo, roadNet-TX.mtx instance for 128 batchsize takes: 1709 ms\n",
      "bf_cpu algo, roadNet-TX.mtx instance for 16384 batchsize takes: 228073 ms\n",
      "bf_cpu algo, roadNet-TX.mtx instance for 2048 batchsize takes: 27403 ms\n",
      "bf_cpu algo, roadNet-TX.mtx instance for 256 batchsize takes: 3428 ms\n",
      "bf_cpu algo, roadNet-TX.mtx instance for 32 batchsize takes: 430 ms\n",
      "bf_cpu algo, roadNet-TX.mtx instance for 4096 batchsize takes: 54750 ms\n",
      "bf_cpu algo, roadNet-TX.mtx instance for 512 batchsize takes: 6847 ms\n",
      "bf_cpu algo, roadNet-TX.mtx instance for 64 batchsize takes: 858 ms\n",
      "bf_cpu algo, roadNet-TX.mtx instance for 8192 batchsize takes: 109548 ms\n",
      "bf_cpu algo, roadNet-TX.mtx instance for 1024 batchsize takes: 4220 ms\n",
      "bf_gpu algo, cit-patent.edges instance for 1024 batchsize takes: 6381 ms\n",
      "bf_gpu algo, cit-patent.edges instance for 128 batchsize takes: 11816 ms\n",
      "bf_gpu algo, cit-patent.edges instance for 16384 batchsize takes: 1382626 ms\n",
      "bf_gpu algo, cit-patent.edges instance for 2048 batchsize takes: 8607 ms\n",
      "bf_gpu algo, cit-patent.edges instance for 256 batchsize takes: 23580 ms\n",
      "bf_gpu algo, cit-patent.edges instance for 32 batchsize takes: 3161 ms\n",
      "bf_gpu algo, cit-patent.edges instance for 4096 batchsize takes: 6503 ms\n",
      "bf_gpu algo, cit-patent.edges instance for 512 batchsize takes: 4957 ms\n",
      "bf_gpu algo, cit-patent.edges instance for 64 batchsize takes: 5956 ms\n",
      "bf_gpu algo, cit-patent.edges instance for 8192 batchsize takes: 690355 ms\n",
      "bf_gpu algo, cit-patent.edges instance for 8192 batchsize takes: 2242 ms\n",
      "bf_gpu algo, roadNet-TX.mtx instance for 1024 batchsize takes: 17390 ms\n",
      "bf_gpu algo, roadNet-TX.mtx instance for 128 batchsize takes: 2265 ms\n",
      "bf_gpu algo, roadNet-TX.mtx instance for 16384 batchsize takes: 277749 ms\n",
      "bf_gpu algo, roadNet-TX.mtx instance for 2048 batchsize takes: 7159 ms\n",
      "bf_gpu algo, roadNet-TX.mtx instance for 256 batchsize takes: 4460 ms\n",
      "bf_gpu algo, roadNet-TX.mtx instance for 32 batchsize takes: 622 ms\n",
      "bf_gpu algo, roadNet-TX.mtx instance for 4096 batchsize takes: 63542 ms\n",
      "bf_gpu algo, roadNet-TX.mtx instance for 512 batchsize takes: 8774 ms\n",
      "bf_gpu algo, roadNet-TX.mtx instance for 64 batchsize takes: 1185 ms\n",
      "bf_gpu algo, roadNet-TX.mtx instance for 8192 batchsize takes: 7047 ms\n",
      "bf_gpu algo, roadNet-TX.mtx instance for 8192 batchsize takes: 6971 ms\n",
      "dijk algo, cit-patent.edges instance for 1024 batchsize takes: 1424 ms\n",
      "dijk algo, cit-patent.edges instance for 128 batchsize takes: 216 ms\n",
      "dijk algo, cit-patent.edges instance for 16384 batchsize takes: 22296 ms\n",
      "dijk algo, cit-patent.edges instance for 2048 batchsize takes: 2779 ms\n",
      "dijk algo, cit-patent.edges instance for 256 batchsize takes: 393 ms\n",
      "dijk algo, cit-patent.edges instance for 32 batchsize takes: 62 ms\n",
      "dijk algo, cit-patent.edges instance for 4096 batchsize takes: 5637 ms\n",
      "dijk algo, cit-patent.edges instance for 512 batchsize takes: 729 ms\n",
      "dijk algo, cit-patent.edges instance for 64 batchsize takes: 113 ms\n",
      "dijk algo, cit-patent.edges instance for 8192 batchsize takes: 11245 ms\n",
      "dijk algo, roadNet-TX.mtx instance for 1024 batchsize takes: 426 ms\n",
      "dijk algo, roadNet-TX.mtx instance for 128 batchsize takes: 58 ms\n",
      "dijk algo, roadNet-TX.mtx instance for 16384 batchsize takes: 6744 ms\n",
      "dijk algo, roadNet-TX.mtx instance for 2048 batchsize takes: 849 ms\n",
      "dijk algo, roadNet-TX.mtx instance for 256 batchsize takes: 110 ms\n",
      "dijk algo, roadNet-TX.mtx instance for 32 batchsize takes: 18 ms\n",
      "dijk algo, roadNet-TX.mtx instance for 4096 batchsize takes: 1690 ms\n",
      "dijk algo, roadNet-TX.mtx instance for 512 batchsize takes: 215 ms\n",
      "dijk algo, roadNet-TX.mtx instance for 64 batchsize takes: 31 ms\n",
      "dijk algo, roadNet-TX.mtx instance for 8192 batchsize takes: 3376 ms\n"
     ]
    }
   ],
   "source": [
    "import simexpal\n",
    "import yaml\n",
    "import matplotlib.pyplot as plt\n",
    "\n",
    "cfg = simexpal.config_for_dir()\n",
    "\n",
    "results = []\n",
    "for run in cfg.collect_successful_results():\n",
    "    with run.open_output_file() as f:\n",
    "        yml = yaml.load(f, Loader=yaml.SafeLoader)\n",
    "    results.append(yml)\n",
    "\n",
    "    \n",
    "for r in sorted(results, key=lambda r: (r['algo'], r['instance'])):\n",
    "    print('{} algo, {} instance for {} batchsize takes: {} ms'.format(\n",
    "          r['algo'], r['instance'], r['batchsize'], r['time_mssp']))"
   ]
  },
  {
   "cell_type": "code",
   "execution_count": 8,
   "metadata": {
    "scrolled": true
   },
   "outputs": [
    {
     "data": {
      "image/png": "[encoded data removed]",
      "text/plain": [
       "<Figure size 432x288 with 1 Axes>"
      ]
     },
     "metadata": {
      "needs_background": "light"
     },
     "output_type": "display_data"
    }
   ],
   "source": [
    "def extract_times(algo, key):\n",
    "    res = []\n",
    "    for r in sorted(results, key=lambda r: r['threads']):\n",
    "        if r['algo'] != algo:\n",
    "            continue\n",
    "        res.append((r['threads'], r[key]))\n",
    "    return res\n",
    "\n",
    "def plot(key):\n",
    "    plt.suptitle(key)\n",
    "    for algo in ['transpose']:\n",
    "        times = extract_times(algo, key)\n",
    "        plt.plot([t for t, _ in times], [time for _, time in times], label=algo)\n",
    "    plt.legend()\n",
    "    plt.show()\n",
    "\n",
    "plot('time')"
   ]
  },
  {
   "cell_type": "code",
   "execution_count": 31,
   "metadata": {},
   "outputs": [],
   "source": [
    "def extract_data(algo, key, field):\n",
    "    res = []\n",
    "    for r in sorted(results, key = lambda r: r[field]):\n",
    "        if r['algo'] != algo:\n",
    "            continue\n",
    "        res.append((r[field],r[key]))\n",
    "    return res"
   ]
  },
  {
   "cell_type": "code",
   "execution_count": 33,
   "metadata": {},
   "outputs": [],
   "source": [
    "def plot(key, field):\n",
    "    plt.suptitle(key)\n",
    "    for algo in [field]:\n",
    "        data = extract_data(algo, key, field)\n",
    "        plt.plot([t for t, _ in data], [d for _, d in data], label = algo)\n",
    "        plt.legend()\n",
    "        plt.show()"
   ]
  },
  {
   "cell_type": "code",
   "execution_count": 37,
   "metadata": {},
   "outputs": [
    {
     "data": {
      "image/png": "[encoded data removed]",
      "text/plain": [
       "<Figure size 432x288 with 1 Axes>"
      ]
     },
     "metadata": {
      "needs_background": "light"
     },
     "output_type": "display_data"
    }
   ],
   "source": [
    "plot('roadNet-TX.mtx', 'time_mssp')"
   ]
  },
  {
   "cell_type": "markdown",
   "metadata": {},
   "source": [
    "### Solution 7a):\n",
    "For transposing the csr_matrix type, one just has to simply count the number of elements in each column, produce the corresponding indice vector for the new matrix and then fill the elements in.\n",
    "This is not as easy to parallize as it seems to be. One can parallize over each row of the old matrix, because all the elements should have different columns, thus preventing race conditions. For bigger matrices one would expect this to scale well, but it doesn't, as seen in the first figure. Instead it scales linear with the number of threads. The reason for that is, that the workload to be parallized, a single row in a sparse matrix, is too small. Therefore the overhead dominates the actual time to transpose the matrix. "
   ]
  },
  {
   "cell_type": "markdown",
   "metadata": {},
   "source": [
    "### Solution 7b,c):\n",
    "The dijkstra implementation takes on average 4192ms for the cit-patent graph and 240ms for the roadNet-TX graph for a sample size of 1000. In our test implementation, the original csr_matrix and the transposed csr_matrix are provided. Thus for a realistic time estimate one would have to add the time for reading the graph and transposing the matrix. As shown in figure 1, the transposition of the cit-patent matrix also takes around 4000ms and therefore shouldn't be ignored."
   ]
  }
 ],
 "metadata": {
  "kernelspec": {
   "display_name": "Python 3",
   "language": "python",
   "name": "python3"
  },
  "language_info": {
   "codemirror_mode": {
    "name": "ipython",
    "version": 3
   },
   "file_extension": ".py",
   "mimetype": "text/x-python",
   "name": "python",
   "nbconvert_exporter": "python",
   "pygments_lexer": "ipython3",
   "version": "3.6.12"
  }
 },
 "nbformat": 4,
 "nbformat_minor": 2
}
