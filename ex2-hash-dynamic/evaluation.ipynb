{
 "cells": [
  {
   "cell_type": "markdown",
   "metadata": {},
   "source": [
    "#### Load simexpal results"
   ]
  },
  {
   "cell_type": "code",
   "execution_count": 1,
   "metadata": {},
   "outputs": [],
   "source": [
    "import matplotlib.pyplot as plt\n",
    "import simexpal\n",
    "import yaml\n",
    "\n",
    "cfg = simexpal.config_for_dir() # load expermiments.yml\n",
    "\n",
    "results = []\n",
    "for run in cfg.collect_successful_results():  # load successfull results from output/*\n",
    "    with run.open_output_file() as f:\n",
    "        yml = yaml.load(f, Loader=yaml.SafeLoader)\n",
    "    results.append(yml)"
   ]
  },
  {
   "cell_type": "markdown",
   "metadata": {},
   "source": [
    "#### Helper function for cache analysis"
   ]
  },
  {
   "cell_type": "code",
   "execution_count": 14,
   "metadata": {},
   "outputs": [],
   "source": [
    "import subprocess\n",
    "\n",
    "def run(cmd):\n",
    "    proc = subprocess.Popen(cmd, stdout = subprocess.PIPE, stderr = subprocess.PIPE)\n",
    "    stdout, stderr = proc.communicate()\n",
    "    return stdout, stderr"
   ]
  },
  {
   "cell_type": "markdown",
   "metadata": {},
   "source": [
    "# Exercise 4"
   ]
  },
  {
   "cell_type": "code",
   "execution_count": 2,
   "metadata": {
    "scrolled": false
   },
   "outputs": [
    {
     "data": {
      "image/png": "[encoded data removed]",
      "text/plain": [
       "<Figure size 432x288 with 1 Axes>"
      ]
     },
     "metadata": {
      "needs_background": "light"
     },
     "output_type": "display_data"
    }
   ],
   "source": [
    "def vec(algo, attr):\n",
    "    filtered_res = list(filter(lambda x: x['algo'] == algo, results))\n",
    "    return [i[attr] for i in filtered_res]\n",
    "\n",
    "x = vec('static', 'max_fill')\n",
    "\n",
    "# plot the insertion\n",
    "plt.plot(x, vec('dynamic_modulo', 'time'), label = 'dynamic with modulo strategy')\n",
    "plt.plot(x, vec('dynamic_scaling', 'time'), label = 'dynamic with scaling strategy')\n",
    "plt.plot(x, vec('static', 'time'), label = 'static')\n",
    "#plt.plot(x, vec('stl', 'time'), label = 'stl')\n",
    "plt.title('insertion time by fill factor')\n",
    "plt.xlabel(\"fill factor 'c'\")\n",
    "plt.ylabel('insertion time[ms]')\n",
    "plt.legend()\n",
    "plt.show()"
   ]
  },
  {
   "cell_type": "markdown",
   "metadata": {},
   "source": [
    "### Question: What fraction of cache-misses can be avoided by using scaling?\n",
    "* Cache misses with **modulo strategy**:"
   ]
  },
  {
   "cell_type": "code",
   "execution_count": 20,
   "metadata": {},
   "outputs": [
    {
     "name": "stdout",
     "output_type": "stream",
     "text": [
      "Running microbenchmark...\n",
      "\n",
      " Performance counter stats for './dev-builds/hashing/bin/hashing --algo dynamic_modulo':\n",
      "\n",
      "       239.078.273      cache-misses:u                                              \n",
      "\n",
      "      19,204298487 seconds time elapsed\n",
      "\n",
      "      17,783632000 seconds user\n",
      "       1,416943000 seconds sys\n"
     ]
    }
   ],
   "source": [
    "# perf prints to stderr, our hashing program to stdout\n",
    "out, err = run([\"perf\",\"stat\",\"-e\",\"cache-misses\",\"./dev-builds/hashing/bin/hashing\",\"--algo\",\"dynamic_modulo\"])\n",
    "print(err.decode('utf-8').strip())"
   ]
  },
  {
   "cell_type": "markdown",
   "metadata": {},
   "source": [
    "* Cache misses with **scaling strategy**:"
   ]
  },
  {
   "cell_type": "code",
   "execution_count": 21,
   "metadata": {},
   "outputs": [
    {
     "name": "stdout",
     "output_type": "stream",
     "text": [
      "Running microbenchmark...\n",
      "\n",
      " Performance counter stats for './dev-builds/hashing/bin/hashing --algo dynamic_scaling':\n",
      "\n",
      "       242.700.969      cache-misses:u                                              \n",
      "\n",
      "      21,170130855 seconds time elapsed\n",
      "\n",
      "      19,314582000 seconds user\n",
      "       1,853392000 seconds sys\n"
     ]
    }
   ],
   "source": [
    "# perf prints to stderr, our hashing program to stdout\n",
    "out, err = run([\"perf\",\"stat\",\"-e\",\"cache-misses\",\"./dev-builds/hashing/bin/hashing\",\"--algo\",\"dynamic_scaling\"])\n",
    "print(err.decode('utf-8').strip())"
   ]
  },
  {
   "cell_type": "markdown",
   "metadata": {},
   "source": [
    "### Solution: \n",
    "Until now, the scaling strategy performs worse than the modulo strategy. It also has more cache misses which should not be the case. \n",
    "\n",
    "**TODO**: Fix implementation"
   ]
  }
 ],
 "metadata": {
  "kernelspec": {
   "display_name": "Python 3",
   "language": "python",
   "name": "python3"
  },
  "language_info": {
   "codemirror_mode": {
    "name": "ipython",
    "version": 3
   },
   "file_extension": ".py",
   "mimetype": "text/x-python",
   "name": "python",
   "nbconvert_exporter": "python",
   "pygments_lexer": "ipython3",
   "version": "3.8.5"
  }
 },
 "nbformat": 4,
 "nbformat_minor": 2
}
