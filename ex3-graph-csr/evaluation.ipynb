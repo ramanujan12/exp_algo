{
 "cells": [
  {
   "cell_type": "code",
   "execution_count": 7,
   "metadata": {},
   "outputs": [
    {
     "name": "stdout",
     "output_type": "stream",
     "text": [
      "Algorithm dijkstra, 1 threads takes: 4192 ms, cit_patent graph\n",
      "Algorithm dijkstra, 1 threads takes: 240 ms, road_texas graph\n",
      "Algorithm transpose, 1 threads takes: 1836 ms, cit_patent graph\n",
      "Algorithm transpose, 2 threads takes: 6961 ms, cit_patent graph\n",
      "Algorithm transpose, 4 threads takes: 9813 ms, cit_patent graph\n",
      "Algorithm transpose, 8 threads takes: 13754 ms, cit_patent graph\n",
      "Algorithm transpose, 16 threads takes: 18831 ms, cit_patent graph\n",
      "Algorithm transpose, 32 threads takes: 33037 ms, cit_patent graph\n",
      "Algorithm transpose, 64 threads takes: 59207 ms, cit_patent graph\n"
     ]
    }
   ],
   "source": [
    "import simexpal\n",
    "import yaml\n",
    "import matplotlib.pyplot as plt\n",
    "\n",
    "cfg = simexpal.config_for_dir()\n",
    "\n",
    "results = []\n",
    "for run in cfg.collect_successful_results():\n",
    "    with run.open_output_file() as f:\n",
    "        yml = yaml.load(f, Loader=yaml.SafeLoader)\n",
    "    results.append(yml)\n",
    "\n",
    "for r in sorted(results, key=lambda r: (r['threads'], r['algo'])):\n",
    "    print('Algorithm {}, {} threads takes: {} ms, {} graph'.format(\n",
    "          r['algo'], r['threads'], r['time'], r['graph']))"
   ]
  },
  {
   "cell_type": "code",
   "execution_count": 8,
   "metadata": {},
   "outputs": [
    {
     "data": {
      "image/png": "[encoded data removed]",
      "text/plain": [
       "<Figure size 432x288 with 1 Axes>"
      ]
     },
     "metadata": {
      "needs_background": "light"
     },
     "output_type": "display_data"
    }
   ],
   "source": [
    "def extract_times(algo, key):\n",
    "    res = []\n",
    "    for r in sorted(results, key=lambda r: r['threads']):\n",
    "        if r['algo'] != algo:\n",
    "            continue\n",
    "        res.append((r['threads'], r[key]))\n",
    "    return res\n",
    "\n",
    "def plot(key):\n",
    "    plt.suptitle(key)\n",
    "    for algo in ['transpose']:\n",
    "        times = extract_times(algo, key)\n",
    "        plt.plot([t for t, _ in times], [time for _, time in times], label=algo)\n",
    "    plt.legend()\n",
    "    plt.show()\n",
    "\n",
    "plot('time')"
   ]
  },
  {
   "cell_type": "markdown",
   "metadata": {},
   "source": [
    "### Solution 7a):\n",
    "For transposing the csr_matrix type, one just has to simply count the number of elements in each column, produce the corresponding indice vector for the new matrix and then fill the elements in.\n",
    "This is not as easy to parallize as it seems to be. One can parallize over each row of the old matrix, because all the elements should have different columns, thus preventing race conditions. For bigger matrices one would expect this to scale well, but it doesn't, as seen in the first figure. Instead it scales linear with the number of threads. The reason for that is, that the workload to be parallized, a single row in a sparse matrix, is too small. Therefore the overhead dominates the actual time to transpose the matrix. "
   ]
  },
  {
   "cell_type": "markdown",
   "metadata": {},
   "source": [
    "### Solution 7b,c):\n",
    "The dijkstra implementation takes on average 4192ms for the cit-patent graph and 240ms for the roadNet-TX graph for a sample size of 1000. In our test implementation, the original csr_matrix and the transposed csr_matrix are provided. Thus for a realistic time estimate one would have to add the time for reading the graph and transposing the matrix. As shown in figure 1, the transposition of the cit-patent matrix also takes around 4000ms and therefore shouldn't be ignored."
   ]
  }
 ],
 "metadata": {
  "kernelspec": {
   "display_name": "Python 3",
   "language": "python",
   "name": "python3"
  },
  "language_info": {
   "codemirror_mode": {
    "name": "ipython",
    "version": 3
   },
   "file_extension": ".py",
   "mimetype": "text/x-python",
   "name": "python",
   "nbconvert_exporter": "python",
   "pygments_lexer": "ipython3",
   "version": "3.6.12"
  }
 },
 "nbformat": 4,
 "nbformat_minor": 2
}
